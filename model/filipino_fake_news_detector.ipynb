{
 "cells": [
  {
   "cell_type": "markdown",
   "id": "b587f4e6",
   "metadata": {},
   "source": [
    "# Faker: A Multinomial Naive Bayes-based Trustworthy Article Identifier\n",
    "\n",
    "This project was made by:\n",
    "- Justin Clyde Frongoso\n",
    "- Medwin Devilleres\n",
    "- Rae Gabriel Samonte\n",
    "- Alquen Antonio Sarmiento\n",
    "\n",
    "Faker is a chrome extension tool that helps identify if an article contains trustworthy content in the form of a paragraph, phrase, or sentence through the use of the Multinomial Naive Bayes model in predicting the validity of Filipino news articles. This Jupyter notebook is made for documentation and demonstration only.\n",
    "\n",
    "The steps for the implementation are given below:"
   ]
  },
  {
   "cell_type": "markdown",
   "id": "cdf414dc",
   "metadata": {},
   "source": [
    "## 1. Import Required Libraries\n",
    "\n",
    "We first import the necessary libraries."
   ]
  },
  {
   "cell_type": "code",
   "execution_count": 1,
   "id": "4fb67bb6",
   "metadata": {},
   "outputs": [],
   "source": [
    "import pandas as pd\n",
    "from sklearn.model_selection import train_test_split\n",
    "from sklearn.feature_extraction.text import CountVectorizer\n",
    "from sklearn.naive_bayes import MultinomialNB\n",
    "from sklearn import metrics, svm\n",
    "from sklearn.feature_extraction.text import TfidfVectorizer\n",
    "from sklearn.linear_model import LogisticRegression\n",
    "import seaborn as sns\n",
    "import matplotlib.pyplot as plt\n",
    "import numpy as np\n",
    "\n",
    "from stops import stop_words"
   ]
  },
  {
   "cell_type": "markdown",
   "id": "794a3053",
   "metadata": {},
   "source": [
    "## 2. Import Dataset\n",
    "\n",
    "We now import the dataset as well as separate the features (in this case, only the article) and the label. The label 0 corresponds to legitimate articles and the label 1 corresponds to fake articles."
   ]
  },
  {
   "cell_type": "code",
   "execution_count": 2,
   "id": "8d155445",
   "metadata": {},
   "outputs": [
    {
     "data": {
      "text/html": [
       "<div>\n",
       "<style scoped>\n",
       "    .dataframe tbody tr th:only-of-type {\n",
       "        vertical-align: middle;\n",
       "    }\n",
       "\n",
       "    .dataframe tbody tr th {\n",
       "        vertical-align: top;\n",
       "    }\n",
       "\n",
       "    .dataframe thead th {\n",
       "        text-align: right;\n",
       "    }\n",
       "</style>\n",
       "<table border=\"1\" class=\"dataframe\">\n",
       "  <thead>\n",
       "    <tr style=\"text-align: right;\">\n",
       "      <th></th>\n",
       "      <th>label</th>\n",
       "      <th>article</th>\n",
       "    </tr>\n",
       "  </thead>\n",
       "  <tbody>\n",
       "    <tr>\n",
       "      <th>0</th>\n",
       "      <td>0</td>\n",
       "      <td>Ayon sa TheWrap.com, naghain ng kaso si Krupa,...</td>\n",
       "    </tr>\n",
       "    <tr>\n",
       "      <th>1</th>\n",
       "      <td>0</td>\n",
       "      <td>Kilala rin ang singer sa pagkumpas ng kanyang ...</td>\n",
       "    </tr>\n",
       "    <tr>\n",
       "      <th>2</th>\n",
       "      <td>0</td>\n",
       "      <td>BLANTYRE, Malawi (AP) -- Bumiyahe patungong Ma...</td>\n",
       "    </tr>\n",
       "    <tr>\n",
       "      <th>3</th>\n",
       "      <td>0</td>\n",
       "      <td>Kasama sa programa ang pananalangin, bulaklak ...</td>\n",
       "    </tr>\n",
       "    <tr>\n",
       "      <th>4</th>\n",
       "      <td>0</td>\n",
       "      <td>Linisin ang Friendship Department dahil dadala...</td>\n",
       "    </tr>\n",
       "  </tbody>\n",
       "</table>\n",
       "</div>"
      ],
      "text/plain": [
       "   label                                            article\n",
       "0      0  Ayon sa TheWrap.com, naghain ng kaso si Krupa,...\n",
       "1      0  Kilala rin ang singer sa pagkumpas ng kanyang ...\n",
       "2      0  BLANTYRE, Malawi (AP) -- Bumiyahe patungong Ma...\n",
       "3      0  Kasama sa programa ang pananalangin, bulaklak ...\n",
       "4      0  Linisin ang Friendship Department dahil dadala..."
      ]
     },
     "execution_count": 2,
     "metadata": {},
     "output_type": "execute_result"
    }
   ],
   "source": [
    "path = 'full.csv'\n",
    "data = pd.read_csv(path)\n",
    "data.head()"
   ]
  },
  {
   "cell_type": "markdown",
   "id": "be4b835e",
   "metadata": {},
   "source": [
    "We check the split of fake and legitimate articles from the dataset through the use of `value_counts()` method."
   ]
  },
  {
   "cell_type": "code",
   "execution_count": 3,
   "id": "205aa15c",
   "metadata": {},
   "outputs": [
    {
     "data": {
      "text/plain": [
       "0    1598\n",
       "1    1598\n",
       "Name: label, dtype: int64"
      ]
     },
     "execution_count": 3,
     "metadata": {},
     "output_type": "execute_result"
    }
   ],
   "source": [
    "count = data.label.value_counts()\n",
    "count"
   ]
  },
  {
   "cell_type": "markdown",
   "id": "34963492",
   "metadata": {},
   "source": [
    "We set the key values for the feature `article` and `label` to `X` and `y`, respectively."
   ]
  },
  {
   "cell_type": "code",
   "execution_count": 4,
   "id": "e9507be3",
   "metadata": {},
   "outputs": [],
   "source": [
    "X = data['article']\n",
    "y = data['label']"
   ]
  },
  {
   "cell_type": "markdown",
   "id": "f351e29e",
   "metadata": {},
   "source": [
    "Determine the average article length to determine the minimum article length to consider for the inputs. A 150-word article (approximately half of the average) was the original minimum but was then reduced to 100 to include most of the articles in the dataset."
   ]
  },
  {
   "cell_type": "code",
   "execution_count": 5,
   "id": "846fb746",
   "metadata": {},
   "outputs": [
    {
     "name": "stdout",
     "output_type": "stream",
     "text": [
      "Average Article Length: 365.94180225281605\n"
     ]
    }
   ],
   "source": [
    "lens = 0\n",
    "for i in X:\n",
    "    \n",
    "    cur_len = len(i.split())\n",
    "    lens += cur_len\n",
    "\n",
    "print(f\"Average Article Length: {lens / count[0]}\")"
   ]
  },
  {
   "cell_type": "markdown",
   "id": "d176368b",
   "metadata": {},
   "source": [
    "## 3. Splitting the Dataset (for training and testing)\n",
    "\n",
    "The data will now be splitted into two sets: the training and test set. Since there are only 3000+ rows, we are splitting the data in a 80:20 split for the training and test set, respectively. Note that the `random_state = 143` is only added to preserve the state in every run of this notebook`."
   ]
  },
  {
   "cell_type": "code",
   "execution_count": 6,
   "id": "b545cde4",
   "metadata": {},
   "outputs": [
    {
     "name": "stdout",
     "output_type": "stream",
     "text": [
      "(2556,)\n",
      "(640,)\n",
      "(2556,)\n",
      "(640,)\n"
     ]
    }
   ],
   "source": [
    "X_train, X_test, y_train, y_test = train_test_split(X, y, test_size = 0.20, random_state = 143)\n",
    "\n",
    "print(X_train.shape)\n",
    "print(X_test.shape)\n",
    "print(y_train.shape)\n",
    "print(y_test.shape)"
   ]
  },
  {
   "cell_type": "markdown",
   "id": "ff99a1c7",
   "metadata": {},
   "source": [
    "## 4. Vectorizing the Dataset\n",
    "\n",
    "We vectorize the dataset into numerical categories in order to easily categorize and fit them using the model."
   ]
  },
  {
   "cell_type": "code",
   "execution_count": 7,
   "id": "216ebee5",
   "metadata": {},
   "outputs": [
    {
     "data": {
      "text/plain": [
       "<640x34527 sparse matrix of type '<class 'numpy.int64'>'\n",
       "\twith 53189 stored elements in Compressed Sparse Row format>"
      ]
     },
     "execution_count": 7,
     "metadata": {},
     "output_type": "execute_result"
    }
   ],
   "source": [
    "vect = CountVectorizer(stop_words = [word for word in stop_words])\n",
    "X_train_dtm = vect.fit_transform(X_train)\n",
    "X_test_dtm = vect.transform(X_test)\n",
    "X_test_dtm"
   ]
  },
  {
   "cell_type": "markdown",
   "id": "7a3fa231",
   "metadata": {},
   "source": [
    "## 5. Building the Model\n",
    "\n",
    "We are using the Multinomial Naive Bayes Classifier as it is suitable for classification of discrete features. It is also computationally efficient and is commonly used for labeling articles and text classification tasks. We also check the accuracu values such as the RMSE and R2 Score and the confusion matrix."
   ]
  },
  {
   "cell_type": "code",
   "execution_count": 8,
   "id": "b10c450e",
   "metadata": {},
   "outputs": [
    {
     "data": {
      "text/plain": [
       "MultinomialNB()"
      ]
     },
     "execution_count": 8,
     "metadata": {},
     "output_type": "execute_result"
    }
   ],
   "source": [
    "nb = MultinomialNB()\n",
    "nb.fit(X_train_dtm, y_train)"
   ]
  },
  {
   "cell_type": "code",
   "execution_count": 9,
   "id": "d15298d2",
   "metadata": {},
   "outputs": [],
   "source": [
    "y_pred_class = nb.predict(X_test_dtm)"
   ]
  },
  {
   "cell_type": "code",
   "execution_count": 10,
   "id": "aa413909",
   "metadata": {},
   "outputs": [
    {
     "name": "stdout",
     "output_type": "stream",
     "text": [
      "Accuracy Score: 0.925\n"
     ]
    }
   ],
   "source": [
    "print(\"Accuracy Score:\", metrics.accuracy_score(y_test, y_pred_class))"
   ]
  },
  {
   "cell_type": "code",
   "execution_count": 11,
   "id": "6032456e",
   "metadata": {},
   "outputs": [
    {
     "name": "stdout",
     "output_type": "stream",
     "text": [
      "              precision    recall  f1-score   support\n",
      "\n",
      "           0       0.93      0.93      0.93       323\n",
      "           1       0.92      0.92      0.92       317\n",
      "\n",
      "    accuracy                           0.93       640\n",
      "   macro avg       0.92      0.92      0.92       640\n",
      "weighted avg       0.93      0.93      0.93       640\n",
      "\n"
     ]
    }
   ],
   "source": [
    "print(metrics.classification_report(y_test, y_pred_class))"
   ]
  },
  {
   "cell_type": "markdown",
   "id": "ba5dffda",
   "metadata": {},
   "source": [
    "Confusion Matrix:"
   ]
  },
  {
   "cell_type": "code",
   "execution_count": 12,
   "id": "27defd72",
   "metadata": {},
   "outputs": [
    {
     "data": {
      "text/plain": [
       "Text(91.68, 0.5, 'true value')"
      ]
     },
     "execution_count": 12,
     "metadata": {},
     "output_type": "execute_result"
    },
    {
     "data": {
      "image/png": "[encoded data removed]",
      "text/plain": [
       "<Figure size 432x288 with 1 Axes>"
      ]
     },
     "metadata": {
      "needs_background": "light"
     },
     "output_type": "display_data"
    }
   ],
   "source": [
    "conf = metrics.confusion_matrix(y_test, y_pred_class)\n",
    "sns.heatmap(conf, square = True, annot = True, cbar = False)\n",
    "plt.xlabel('predicted value')\n",
    "plt.ylabel('true value')"
   ]
  },
  {
   "cell_type": "code",
   "execution_count": 13,
   "id": "d515ca68",
   "metadata": {},
   "outputs": [
    {
     "name": "stdout",
     "output_type": "stream",
     "text": [
      "RMSE: 0.27386127875258304\n"
     ]
    }
   ],
   "source": [
    "print(\"RMSE:\", np.sqrt(metrics.mean_squared_error(y_test, y_pred_class)))"
   ]
  },
  {
   "cell_type": "code",
   "execution_count": 14,
   "id": "9de3244c",
   "metadata": {},
   "outputs": [
    {
     "name": "stdout",
     "output_type": "stream",
     "text": [
      "R2 Score: 0.6999736304948676\n"
     ]
    }
   ],
   "source": [
    "print(\"R2 Score:\", metrics.r2_score(y_test, y_pred_class))"
   ]
  },
  {
   "cell_type": "markdown",
   "id": "4484e8b9",
   "metadata": {},
   "source": [
    "## 6. Predicting Text\n",
    "\n",
    "Now that we trained the model, it is now time to use it and predict some pieces of text. To begin, input any article and see whether it is trustworthy or not."
   ]
  },
  {
   "cell_type": "code",
   "execution_count": 15,
   "id": "4aba9add",
   "metadata": {},
   "outputs": [
    {
     "name": "stdout",
     "output_type": "stream",
     "text": [
      "Umaasa ang kampo ni Belmonte na matukoy at mahubaran ng maskara ang tunay na utak ng pananambang kasabay ng pagsasampa ng kaso. Nadakip ng Special Investigation Task Group (SITG) Belmonte noong Sabado ng matunton ng pulisya ang pinagtataguan ng suspek na si Dominador Tumala 62, ng Bgy. Osmena, Zamboaga del Norte. Naniniwala si Belmonte, na susunod na ang utak ng pananambang sa oras na ikanta ni Tumala. Sinabi ng pulisya ang pagkahuli ni Tumala ay magbibigay daan upang malaman ang kung sino ang nag-utos sa kanya upang makamit ng mga biktima ang hustisya. Ipinagharap na ng kasong multiple murder, multiple frustrated murder si Tumala sa provincial prosecutor's office sa Misamis Oriental.\n",
      "0\n"
     ]
    }
   ],
   "source": [
    "def manual_predict(model, vectorizer, text):\n",
    "    inp_arr = []\n",
    "    inp_arr.append(text)\n",
    "    inp_dtm = vectorizer.transform(inp_arr)\n",
    "    res = model.predict(inp_dtm)[0]\n",
    "    return res\n",
    "\n",
    "inp = str(input())\n",
    "print(manual_predict(nb, vect, inp))"
   ]
  },
  {
   "cell_type": "markdown",
   "id": "27df217c",
   "metadata": {},
   "source": [
    "## 7. Exporting the Model\n",
    "We export the model to a binary file that can be imported by the API to be used for prediction.\n"
   ]
  },
  {
   "cell_type": "code",
   "execution_count": 16,
   "id": "0ba30ed7",
   "metadata": {},
   "outputs": [],
   "source": [
    "import pickle\n",
    "with open('model_pickle', 'wb') as f:\n",
    "    pickle.dump(nb, f)\n",
    "with open('vect_pickle', 'wb') as f:\n",
    "    pickle.dump(vect, f)"
   ]
  },
  {
   "cell_type": "code",
   "execution_count": 17,
   "id": "095898ae",
   "metadata": {},
   "outputs": [],
   "source": [
    "with open('model_pickle', 'rb') as f:\n",
    "    imported_model = pickle.load (f)\n",
    "with open('vect_pickle', 'rb') as f:\n",
    "    imported_vect = pickle.load (f)"
   ]
  },
  {
   "cell_type": "code",
   "execution_count": 18,
   "id": "9751c43c",
   "metadata": {},
   "outputs": [
    {
     "name": "stdout",
     "output_type": "stream",
     "text": [
      "Para sa mga magkakapatid na laging nagtatalo lalo na noong bata pa, siguradong naka-relate din kayo sa mala-aso't pusa na pag-aaway nina Bilog at Bunak na viral ngayon! Grabe kasing tatama sa puso ninyo at maibabalik ang iyong nakaraan kaya talagang naging viral ang video ng dalawang magkapatid na ito. Sa sobrang kasikatan ng dalawang magakapatid na ito, dumami ang gumaya sa kanila at gumawa ng parody. Isa na dito si Yaya Dub na talagang nagbabalik na sa pag da-dubsmash. Maaalala nyo na dito sya nag simulang sumikat nung nag million hits ang kanyang dubsmash. Ngayon naman ang viral ay ang magkapatid na Bilog at Bunak. Mapapanood nyo dito ngayon ang soundtrack. Here is the link.\n",
      "1\n"
     ]
    }
   ],
   "source": [
    "inp = str(input())\n",
    "print(manual_predict(imported_model, imported_vect, inp))"
   ]
  },
  {
   "cell_type": "markdown",
   "id": "38a56f58",
   "metadata": {},
   "source": [
    "## 8. Additional Features\n",
    "In this section we introduce additional features for the extension. We will use two more models, the SVM model and Logistic Regression, to identify the likelihood that an article is trustworthy or not."
   ]
  },
  {
   "cell_type": "markdown",
   "id": "a1378548",
   "metadata": {},
   "source": [
    "### i. SVM Model"
   ]
  },
  {
   "cell_type": "markdown",
   "id": "efd11074",
   "metadata": {},
   "source": [
    "We preprocess the data into numeric categorizations."
   ]
  },
  {
   "cell_type": "code",
   "execution_count": 19,
   "id": "9526ed6d",
   "metadata": {},
   "outputs": [],
   "source": [
    "vectorizer = TfidfVectorizer(stop_words = [word for word in stop_words])\n",
    "train_features = vectorizer.fit_transform(X_train)\n",
    "test_features = vectorizer.transform(X_test)"
   ]
  },
  {
   "cell_type": "markdown",
   "id": "5c592e2c",
   "metadata": {},
   "source": [
    "Next is the fitting of the training set and the prediction of the testing set."
   ]
  },
  {
   "cell_type": "code",
   "execution_count": 20,
   "id": "46a98cb5",
   "metadata": {},
   "outputs": [
    {
     "name": "stdout",
     "output_type": "stream",
     "text": [
      "              precision    recall  f1-score   support\n",
      "\n",
      "           0       0.92      0.98      0.95       323\n",
      "           1       0.98      0.91      0.94       317\n",
      "\n",
      "    accuracy                           0.95       640\n",
      "   macro avg       0.95      0.95      0.95       640\n",
      "weighted avg       0.95      0.95      0.95       640\n",
      "\n"
     ]
    }
   ],
   "source": [
    "classifier = svm.SVC()\n",
    "classifier.fit(train_features, y_train)\n",
    "predictions = classifier.predict(test_features)\n",
    "print(metrics.classification_report(y_test, predictions))"
   ]
  },
  {
   "cell_type": "markdown",
   "id": "872eceae",
   "metadata": {},
   "source": [
    "Finally, we export the model into a pickle file so that it would be available for the extension."
   ]
  },
  {
   "cell_type": "code",
   "execution_count": 21,
   "id": "08144897",
   "metadata": {},
   "outputs": [],
   "source": [
    "import pickle\n",
    "with open('model_pickle_svm', 'wb') as f:\n",
    "    pickle.dump(nb, f)\n",
    "with open('vect_pickle_svm', 'wb') as f:\n",
    "    pickle.dump(vect, f)\n",
    "with open('model_pickle_svm', 'rb') as f:\n",
    "    imported_model_svm = pickle.load (f)\n",
    "with open('vect_pickle_svm', 'rb') as f:\n",
    "    imported_vect_svm = pickle.load (f)"
   ]
  },
  {
   "cell_type": "markdown",
   "id": "5155a0eb",
   "metadata": {},
   "source": [
    "### ii. Logistic Regression"
   ]
  },
  {
   "cell_type": "markdown",
   "id": "16745b7b",
   "metadata": {},
   "source": [
    "We again preprocess the data first into numeric categorizations."
   ]
  },
  {
   "cell_type": "code",
   "execution_count": 22,
   "id": "4f43ad88",
   "metadata": {},
   "outputs": [],
   "source": [
    "vectorizer = TfidfVectorizer(stop_words = [word for word in stop_words])\n",
    "train_features = vectorizer.fit_transform(X_train)\n",
    "test_features = vectorizer.transform(X_test)"
   ]
  },
  {
   "cell_type": "markdown",
   "id": "19af2e41",
   "metadata": {},
   "source": [
    "Next is the fitting of the training set and the prediction of the testing set."
   ]
  },
  {
   "cell_type": "code",
   "execution_count": 23,
   "id": "82f510e1",
   "metadata": {},
   "outputs": [
    {
     "name": "stdout",
     "output_type": "stream",
     "text": [
      "              precision    recall  f1-score   support\n",
      "\n",
      "           0       0.92      0.97      0.94       323\n",
      "           1       0.97      0.91      0.94       317\n",
      "\n",
      "    accuracy                           0.94       640\n",
      "   macro avg       0.94      0.94      0.94       640\n",
      "weighted avg       0.94      0.94      0.94       640\n",
      "\n"
     ]
    }
   ],
   "source": [
    "classifier = LogisticRegression()\n",
    "classifier.fit(train_features, y_train)\n",
    "predictions = classifier.predict(test_features)\n",
    "print(metrics.classification_report(y_test, predictions))"
   ]
  },
  {
   "cell_type": "markdown",
   "id": "9207accf",
   "metadata": {},
   "source": [
    "Finally, we export the model into a pickle file so that it would be available for the extension."
   ]
  },
  {
   "cell_type": "code",
   "execution_count": 24,
   "id": "a6fae85c",
   "metadata": {},
   "outputs": [],
   "source": [
    "import pickle\n",
    "with open('model_pickle_logistic_regression', 'wb') as f:\n",
    "    pickle.dump(nb, f)\n",
    "with open('vect_pickle_logistic_regression', 'wb') as f:\n",
    "    pickle.dump(vect, f)\n",
    "with open('model_pickle_logistic_regression', 'rb') as f:\n",
    "    imported_model_logistic_regression = pickle.load (f)\n",
    "with open('vect_pickle_logistic_regression', 'rb') as f:\n",
    "    imported_vect_logistic_regression = pickle.load (f)"
   ]
  },
  {
   "cell_type": "markdown",
   "id": "c36fc984",
   "metadata": {},
   "source": [
    "### End of Code"
   ]
  }
 ],
 "metadata": {
  "kernelspec": {
   "display_name": "Python 3 (ipykernel)",
   "language": "python",
   "name": "python3"
  },
  "language_info": {
   "codemirror_mode": {
    "name": "ipython",
    "version": 3
   },
   "file_extension": ".py",
   "mimetype": "text/x-python",
   "name": "python",
   "nbconvert_exporter": "python",
   "pygments_lexer": "ipython3",
   "version": "3.9.7"
  }
 },
 "nbformat": 4,
 "nbformat_minor": 5
}
